{
  "nbformat": 4,
  "nbformat_minor": 0,
  "metadata": {
    "colab": {
      "provenance": [],
      "collapsed_sections": [],
      "authorship_tag": "ABX9TyMLWdZlt0CZlm5yitUZNgRB",
      "include_colab_link": true
    },
    "kernelspec": {
      "name": "python3",
      "display_name": "Python 3"
    },
    "language_info": {
      "name": "python"
    }
  },
  "cells": [
    {
      "cell_type": "markdown",
      "metadata": {
        "id": "view-in-github",
        "colab_type": "text"
      },
      "source": [
        "<a href=\"https://colab.research.google.com/github/Dishwashe/Project-2/blob/main/Lab3part2_md.ipynb\" target=\"_parent\"><img src=\"https://colab.research.google.com/assets/colab-badge.svg\" alt=\"Open In Colab\"/></a>"
      ]
    },
    {
      "cell_type": "code",
      "execution_count": null,
      "metadata": {
        "id": "PsNBoRcO3jIZ"
      },
      "outputs": [],
      "source": [
        "\n"
      ]
    },
    {
      "cell_type": "markdown",
      "source": [
        "6.PC\n",
        "\n",
        "Program| Software Manufacturer|  Software version | Software type|\n",
        "-------|----------------------|-------------------|--------------|\n",
        "Windows          | Microsoft  |10|OS\n",
        "\n",
        "\n",
        "7.Mobile Phone\n",
        "\n",
        "Apps|Software Manfucturer|Software Version|Software Type\n",
        "----|--------------------|----------------|-------------|\n",
        "Disney+| Walt Disney Compuet Software Inc.| 2.11.2|Ott media service\n",
        "\n",
        "\n"
      ],
      "metadata": {
        "id": "_MiVk2CqSm5w"
      }
    }
  ]
}